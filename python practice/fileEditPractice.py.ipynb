{
 "cells": [
  {
   "cell_type": "code",
   "execution_count": 3,
   "metadata": {},
   "outputs": [],
   "source": [
    "#import os, shutil"
   ]
  },
  {
   "cell_type": "code",
   "execution_count": 30,
   "metadata": {},
   "outputs": [
    {
     "name": "stdout",
     "output_type": "stream",
     "text": [
      "this will replace all text in the file with this text\n",
      "this will add some content to the existing text\n",
      "this will add some content to the existing text\n",
      "this will add some content to the existing text\n",
      "this will add some content to the existing text\n"
     ]
    }
   ],
   "source": [
    "hellofile = open('./sampletext.txt')#default mode is read only\n",
    "text = hellofile.read()\n",
    "hellofile.close()\n",
    "print(text)"
   ]
  },
  {
   "cell_type": "code",
   "execution_count": 24,
   "metadata": {},
   "outputs": [],
   "source": [
    "hellofile = open('./sampletext.txt','w') #w is for the write mode\n",
    "hellofile.write('this will replace all text in the file with this text')\n",
    "hellofile.close()"
   ]
  },
  {
   "cell_type": "code",
   "execution_count": 29,
   "metadata": {},
   "outputs": [],
   "source": [
    "hellofile = open('./sampletext.txt','a') #a is append mode\n",
    "hellofile.write('\\nthis will add some content to the existing text')\n",
    "hellofile.close()"
   ]
  },
  {
   "cell_type": "code",
   "execution_count": 31,
   "metadata": {},
   "outputs": [
    {
     "name": "stdout",
     "output_type": "stream",
     "text": [
      "this will replace all text in the file with this text\n",
      "this will add some content to the existing text\n",
      "this will add some content to the existing text\n",
      "this will add some content to the existing text\n",
      "this will add some content to the existing text\n"
     ]
    }
   ],
   "source": [
    "# print the text in the file\n",
    "hellofile = open('./sampletext.txt')#default mode is read only\n",
    "text = hellofile.read()\n",
    "hellofile.close()\n",
    "print(text)"
   ]
  },
  {
   "cell_type": "code",
   "execution_count": 32,
   "metadata": {
    "collapsed": true
   },
   "outputs": [],
   "source": [
    "#shelve value\n",
    "import shelve\n",
    "shelfFile = shelve.open('sampleshelf')\n",
    "shelfFile['idiots']= ['trump','dimon','the thai general','kim kardashian']\n",
    "shelfFile.close()"
   ]
  },
  {
   "cell_type": "code",
   "execution_count": 42,
   "metadata": {},
   "outputs": [
    {
     "name": "stdout",
     "output_type": "stream",
     "text": [
      "{'idiots': ['trump', 'dimon', 'the thai general', 'kim kardashian']}\n"
     ]
    }
   ],
   "source": [
    "data={}\n",
    "shelfFile = shelve.open(filename='sampleshelf')\n",
    "data['idiots'] = shelfFile['idiots']\n",
    "print(data)\n",
    "shelfFile.close()"
   ]
  },
  {
   "cell_type": "code",
   "execution_count": 48,
   "metadata": {},
   "outputs": [
    {
     "name": "stdout",
     "output_type": "stream",
     "text": [
      "dimon\n"
     ]
    }
   ],
   "source": [
    "print(data['idiots'][1])"
   ]
  },
  {
   "cell_type": "code",
   "execution_count": null,
   "metadata": {
    "collapsed": true
   },
   "outputs": [],
   "source": []
  }
 ],
 "metadata": {
  "kernelspec": {
   "display_name": "Python 3",
   "language": "python",
   "name": "python3"
  },
  "language_info": {
   "codemirror_mode": {
    "name": "ipython",
    "version": 3
   },
   "file_extension": ".py",
   "mimetype": "text/x-python",
   "name": "python",
   "nbconvert_exporter": "python",
   "pygments_lexer": "ipython3",
   "version": "3.6.3"
  }
 },
 "nbformat": 4,
 "nbformat_minor": 2
}
